{
 "cells": [
  {
   "cell_type": "markdown",
   "metadata": {},
   "source": [
    "# Introduction to Reproducible Research with R\n",
    "## Lab 01 for PH 290: Targeted Learning in Biomedical Big Data\n",
    "### Author: [Nima Hejazi](https://nimahejazi.org)\n",
    "### Date: 16 January 2017\n",
    "### Attribution: adapted from source materials by [David Benkeser](https://github.com/benkeser)"
   ]
  },
  {
   "cell_type": "markdown",
   "metadata": {},
   "source": [
    "## I. Introduction\n",
    "\n",
    "This document provides a brief introduction to a few of the core constructs of the `R` language and environment for statistical computing. These will be necessary for the first laboratory assignment and will be staples that you will rely on throughout the course."
   ]
  },
  {
   "cell_type": "code",
   "execution_count": 52,
   "metadata": {
    "collapsed": true
   },
   "outputs": [],
   "source": [
    "options(repr.plot.width = 4, repr.plot.height = 3)  ## resizing plots\n",
    "options(scipen = 999)  ## has scientific notation ever annoyed you?"
   ]
  },
  {
   "cell_type": "code",
   "execution_count": 54,
   "metadata": {},
   "outputs": [
    {
     "name": "stderr",
     "output_type": "stream",
     "text": [
      "\n",
      "Attaching package: ‘usethis’\n",
      "\n",
      "The following objects are masked from ‘package:devtools’:\n",
      "\n",
      "    use_appveyor, use_build_ignore, use_code_of_conduct, use_coverage,\n",
      "    use_cran_badge, use_cran_comments, use_data, use_data_raw,\n",
      "    use_dev_version, use_git, use_git_hook, use_github,\n",
      "    use_github_links, use_gpl3_license, use_mit_license, use_news_md,\n",
      "    use_package, use_package_doc, use_rcpp, use_readme_md,\n",
      "    use_readme_rmd, use_revdep, use_rstudio, use_test, use_testthat,\n",
      "    use_travis, use_vignette\n",
      "\n",
      "here() starts at /Users/nimahejazi/Dropbox/UC_Berkeley-grad/teaching/tlbbd-labs/lab_01\n"
     ]
    }
   ],
   "source": [
    "# packages for project management\n",
    "library(usethis)  # commonly used package components\n",
    "library(here)  # set paths relative to a .Rproj file"
   ]
  },
  {
   "cell_type": "markdown",
   "metadata": {},
   "source": [
    "Let's take a moment to see why we'd use something like `here`:\n",
    "* https://twitter.com/hadleywickham/status/940021008764846080\n",
    "\n",
    "While `usethis` is not a necessity (unlike `here`), it does make life _a lot_ easier\n",
    "* https://github.com/r-lib/usethis"
   ]
  },
  {
   "cell_type": "code",
   "execution_count": 1,
   "metadata": {},
   "outputs": [
    {
     "name": "stderr",
     "output_type": "stream",
     "text": [
      "\n",
      "Attaching package: ‘skimr’\n",
      "\n",
      "The following objects are masked from ‘package:dplyr’:\n",
      "\n",
      "    contains, ends_with, everything, matches, num_range, one_of,\n",
      "    starts_with\n",
      "\n"
     ]
    }
   ],
   "source": [
    "# some more data-oriented packages we'll use\n",
    "library(tidyverse)  ## core tools for \"tidy\" data science\n",
    "library(skimr)  ## take a deeper look at your data"
   ]
  },
  {
   "cell_type": "markdown",
   "metadata": {},
   "source": [
    "## II. Simulating data\n",
    "\n",
    "A big part of what we statisticians do is based on simulating data. You just came up with a method that, in theory, is brilliant/elegant/the-best-thing-since-sliced-bread, but you need to illustrate that the method actually works well in practice. For example, your theoretical results may be based on the assumption of a large sample size and you want to investigate how well the method performs when the sample size is modestly small. Providing such information can help convince readers that your method is in fact a good idea. Simulations can also be helpful for showing when a method breaks down, which is something reviewers also like to see. \n",
    "\n",
    "To accomplish these tasks, we need to create a data generating experiment where we know the truth so that we can benchmark our method by it. Let's start with a very simple example. Our simulated experiment enrolls `n=100` subjects and measures an outcome $Y$ on each subject. Suppose that we want to know how our method performs when $Y \\sim N(0,1)$. "
   ]
  },
  {
   "cell_type": "code",
   "execution_count": 3,
   "metadata": {},
   "outputs": [
    {
     "data": {
      "text/html": [
       "<table>\n",
       "<thead><tr><th scope=col>type</th><th scope=col>stat</th><th scope=col>level</th><th scope=col>value</th><th scope=col>formatted</th><th scope=col>variable</th></tr></thead>\n",
       "<tbody>\n",
       "\t<tr><td>numeric     </td><td>missing     </td><td>.all        </td><td>  0.00000000</td><td>0           </td><td>Y           </td></tr>\n",
       "\t<tr><td>numeric     </td><td>complete    </td><td>.all        </td><td>100.00000000</td><td>100         </td><td>Y           </td></tr>\n",
       "\t<tr><td>numeric     </td><td>n           </td><td>.all        </td><td>100.00000000</td><td>100         </td><td>Y           </td></tr>\n",
       "\t<tr><td>numeric     </td><td>mean        </td><td>.all        </td><td> -0.13230679</td><td>-0.13       </td><td>Y           </td></tr>\n",
       "\t<tr><td>numeric     </td><td>sd          </td><td>.all        </td><td>  1.02838232</td><td>1.03        </td><td>Y           </td></tr>\n",
       "\t<tr><td>numeric     </td><td>p0          </td><td>.all        </td><td> -2.27469359</td><td>-2.27       </td><td>Y           </td></tr>\n",
       "\t<tr><td>numeric     </td><td>p25         </td><td>.all        </td><td> -0.78641356</td><td>-0.79       </td><td>Y           </td></tr>\n",
       "\t<tr><td>numeric     </td><td>median      </td><td>.all        </td><td> -0.07902102</td><td>-0.079      </td><td>Y           </td></tr>\n",
       "\t<tr><td>numeric     </td><td>p75         </td><td>.all        </td><td>  0.62299759</td><td>0.62        </td><td>Y           </td></tr>\n",
       "\t<tr><td>numeric     </td><td>p100        </td><td>.all        </td><td>  1.97201608</td><td>1.97        </td><td>Y           </td></tr>\n",
       "\t<tr><td>numeric     </td><td>hist        </td><td>.all        </td><td>          NA</td><td>▃▂▅▇▇▇▃▂    </td><td>Y           </td></tr>\n",
       "</tbody>\n",
       "</table>\n"
      ],
      "text/latex": [
       "\\begin{tabular}{r|llllll}\n",
       " type & stat & level & value & formatted & variable\\\\\n",
       "\\hline\n",
       "\t numeric      & missing      & .all         &   0.00000000 & 0            & Y           \\\\\n",
       "\t numeric      & complete     & .all         & 100.00000000 & 100          & Y           \\\\\n",
       "\t numeric      & n            & .all         & 100.00000000 & 100          & Y           \\\\\n",
       "\t numeric      & mean         & .all         &  -0.13230679 & -0.13        & Y           \\\\\n",
       "\t numeric      & sd           & .all         &   1.02838232 & 1.03         & Y           \\\\\n",
       "\t numeric      & p0           & .all         &  -2.27469359 & -2.27        & Y           \\\\\n",
       "\t numeric      & p25          & .all         &  -0.78641356 & -0.79        & Y           \\\\\n",
       "\t numeric      & median       & .all         &  -0.07902102 & -0.079       & Y           \\\\\n",
       "\t numeric      & p75          & .all         &   0.62299759 & 0.62         & Y           \\\\\n",
       "\t numeric      & p100         & .all         &   1.97201608 & 1.97         & Y           \\\\\n",
       "\t numeric      & hist         & .all         &           NA & ▃▂▅▇▇▇▃▂     & Y           \\\\\n",
       "\\end{tabular}\n"
      ],
      "text/markdown": [
       "\n",
       "type | stat | level | value | formatted | variable | \n",
       "|---|---|---|---|---|---|---|---|---|---|---|\n",
       "| numeric      | missing      | .all         |   0.00000000 | 0            | Y            | \n",
       "| numeric      | complete     | .all         | 100.00000000 | 100          | Y            | \n",
       "| numeric      | n            | .all         | 100.00000000 | 100          | Y            | \n",
       "| numeric      | mean         | .all         |  -0.13230679 | -0.13        | Y            | \n",
       "| numeric      | sd           | .all         |   1.02838232 | 1.03         | Y            | \n",
       "| numeric      | p0           | .all         |  -2.27469359 | -2.27        | Y            | \n",
       "| numeric      | p25          | .all         |  -0.78641356 | -0.79        | Y            | \n",
       "| numeric      | median       | .all         |  -0.07902102 | -0.079       | Y            | \n",
       "| numeric      | p75          | .all         |   0.62299759 | 0.62         | Y            | \n",
       "| numeric      | p100         | .all         |   1.97201608 | 1.97         | Y            | \n",
       "| numeric      | hist         | .all         |           NA | ▃▂▅▇▇▇▃▂     | Y            | \n",
       "\n",
       "\n"
      ],
      "text/plain": [
       "   type    stat     level value        formatted variable\n",
       "1  numeric missing  .all    0.00000000 0         Y       \n",
       "2  numeric complete .all  100.00000000 100       Y       \n",
       "3  numeric n        .all  100.00000000 100       Y       \n",
       "4  numeric mean     .all   -0.13230679 -0.13     Y       \n",
       "5  numeric sd       .all    1.02838232 1.03      Y       \n",
       "6  numeric p0       .all   -2.27469359 -2.27     Y       \n",
       "7  numeric p25      .all   -0.78641356 -0.79     Y       \n",
       "8  numeric median   .all   -0.07902102 -0.079    Y       \n",
       "9  numeric p75      .all    0.62299759 0.62      Y       \n",
       "10 numeric p100     .all    1.97201608 1.97      Y       \n",
       "11 numeric hist     .all            NA ▃▂▅▇▇▇▃▂  Y       "
      ]
     },
     "metadata": {},
     "output_type": "display_data"
    }
   ],
   "source": [
    "# we're simulating -- it's important to set the seed for the PRNG\n",
    "set.seed(3724591)  ## note something like '5' is a BAD seed, it might be worth reading about PRNGs\n",
    "\n",
    "# simulate 100 draws from a normal distribution.\n",
    "Y <- rnorm(n = 100, mean = 0 , sd = 1)\n",
    "\n",
    "# we'll use skimr::skim to take a look at y\n",
    "skim(Y)"
   ]
  },
  {
   "cell_type": "markdown",
   "metadata": {},
   "source": [
    "The above code chunk illustrates several important `R` functions.\n",
    "\n",
    "* First is `rnorm`, which simulates `n` observations from a standard Normal distribution with `mean = 0` and standard deviation `sd = 1`.\n",
    "* We also illustrated several functions that are useful for ensuring that the data were created properly.\n",
    "* The function `skim` from the [`skimr` package](https://cran.r-project.org/web/packages/skimr/index.html) provides a catch-all way to take a look at some important properties of a data set (in this case, just a vector). We can see that we received information about the quantiles (just like `summary` would provide), in addition to missingness/completeness, and even a histogram!\n",
    "\n",
    "Now, let's move on to visualizing our data. We'll do this with `ggplot2`, a modern graphics engine that is an implementation of the [Grammar of Graphics](http://vita.had.co.nz/papers/layered-grammar.pdf)."
   ]
  },
  {
   "cell_type": "code",
   "execution_count": 14,
   "metadata": {},
   "outputs": [
    {
     "name": "stderr",
     "output_type": "stream",
     "text": [
      "`stat_bin()` using `bins = 30`. Pick better value with `binwidth`.\n"
     ]
    },
    {
     "data": {},
     "metadata": {},
     "output_type": "display_data"
    },
    {
     "data": {
      "image/png": "[encoded data removed]",
      "text/plain": [
       "plot without title"
      ]
     },
     "metadata": {},
     "output_type": "display_data"
    }
   ],
   "source": [
    "# let's take a closer look at the histogram of Y\n",
    "p1 <- gather(as_tibble(Y)) %>%\n",
    "  ggplot(., aes(x = value)) +\n",
    "  geom_histogram(aes(y = ..density..))\n",
    "p1"
   ]
  },
  {
   "cell_type": "markdown",
   "metadata": {},
   "source": [
    "Ok, so there's a lot going on above. Let's take a moment to dissect it. The `ggplot2` engine requires that we pass in a table of [\"tidy\" data](http://vita.had.co.nz/papers/tidy-data.pdf).\n",
    "\n",
    "What's tidy data?\n",
    "1. each observation in a single row\n",
    "2. each variable in a single column\n",
    "3. each value in a cell.\n",
    "\n",
    "To tidy up our data, we can use the `gather` function from the [`tidyr` package](http://tidyr.tidyverse.org/).\n",
    "\n",
    "Some questions:\n",
    "* Really, are you kidding? What's a [`tibble`](http://tibble.tidyverse.org/)? It's just a cleaner implementation of a `data.frame`. There's a few re-implementations of this core object because of inefficiencies. Another is the very useful [`data.table`](https://github.com/Rdatatable/data.table/wiki).\n",
    "* What's this \"`%>%`\" thing all about? It's a \"pipe\" operator, introduced initially by the [`magrittr` package](https://cran.r-project.org/web/packages/magrittr/index.html). We'll come back to this.\n",
    "\n",
    "How does `ggplot2` work?\n",
    "* We're composing a plot in _layers_.\n",
    "* First, we add a core data layer: this is the `tibble` that is passed in by the pipe. With `aes`, we specify that the x-axis of our plot is going to be the variable `value` (n.b., this is created implicitly by `tidyr::gather`).\n",
    "* Next, we specify the type of plot -- we're making a histogram, hence the use of the aptly named `geom_histogram`. By specifying `aes` here, we note that the y-axis is going to be a density (we could have also done `aes(y = ..counts..)`.\n",
    "* We could just stop here, but there's more we can do to improve our plot."
   ]
  },
  {
   "cell_type": "code",
   "execution_count": 18,
   "metadata": {},
   "outputs": [
    {
     "name": "stderr",
     "output_type": "stream",
     "text": [
      "`stat_bin()` using `bins = 30`. Pick better value with `binwidth`.\n"
     ]
    },
    {
     "data": {},
     "metadata": {},
     "output_type": "display_data"
    },
    {
     "data": {
      "image/png": "[encoded data removed]",
      "text/plain": [
       "plot without title"
      ]
     },
     "metadata": {},
     "output_type": "display_data"
    }
   ],
   "source": [
    "p2 <- p1 +\n",
    "  stat_function(fun = dnorm, args = list(mean = 0, sd = 1),\n",
    "                linetype = \"dashed\") +  ## let's add a normal distribution to compare our histogram to\n",
    "  xlim(c(-3, 3)) +  ## we'll set hard limits to the x-axis to make the visualization clearer\n",
    "  xlab(\"observed values of y\") + ## labeling our axes never hurts\n",
    "  ggtitle(\"Density Histogram of R.V. Y\") +  ## titles are good too...\n",
    "  theme_bw()  ## let's get rid of that annoying gray background\n",
    "p2"
   ]
  },
  {
   "cell_type": "markdown",
   "metadata": {},
   "source": [
    "Much nicer! Definitely a nicer looking plot than we saw before.\n",
    "\n",
    "* Consult the comments in the above block to know what each step of the layering does\n",
    "* Note that we simple constructed a new plot (`p2`) by adding layers to the first plot (`p1`) -- both are preserved!"
   ]
  },
  {
   "cell_type": "markdown",
   "metadata": {},
   "source": [
    "Alright, now that we've taken a look at `ggplot2` and some other core tools of the [Tidyverse](https://www.tidyverse.org/), let's resume talking about simulations:\n",
    "\n",
    "There are other distributions we might want to simulate from as well."
   ]
  },
  {
   "cell_type": "code",
   "execution_count": 24,
   "metadata": {},
   "outputs": [
    {
     "data": {
      "text/html": [
       "<table>\n",
       "<thead><tr><th scope=col>variable</th><th scope=col>type</th><th scope=col>stat</th><th scope=col>level</th><th scope=col>value</th><th scope=col>formatted</th></tr></thead>\n",
       "<tbody>\n",
       "\t<tr><td>unif        </td><td>numeric     </td><td>missing     </td><td>.all        </td><td>  0.00000000</td><td>0           </td></tr>\n",
       "\t<tr><td>unif        </td><td>numeric     </td><td>complete    </td><td>.all        </td><td>100.00000000</td><td>100         </td></tr>\n",
       "\t<tr><td>unif        </td><td>numeric     </td><td>n           </td><td>.all        </td><td>100.00000000</td><td>100         </td></tr>\n",
       "\t<tr><td>unif        </td><td>numeric     </td><td>mean        </td><td>.all        </td><td>  0.49401894</td><td>0.49        </td></tr>\n",
       "\t<tr><td>unif        </td><td>numeric     </td><td>sd          </td><td>.all        </td><td>  0.25992231</td><td>0.26        </td></tr>\n",
       "\t<tr><td>unif        </td><td>numeric     </td><td>p0          </td><td>.all        </td><td>  0.02287295</td><td>0.023       </td></tr>\n",
       "\t<tr><td>unif        </td><td>numeric     </td><td>p25         </td><td>.all        </td><td>  0.30916221</td><td>0.31        </td></tr>\n",
       "\t<tr><td>unif        </td><td>numeric     </td><td>median      </td><td>.all        </td><td>  0.47026868</td><td>0.47        </td></tr>\n",
       "\t<tr><td>unif        </td><td>numeric     </td><td>p75         </td><td>.all        </td><td>  0.70735798</td><td>0.71        </td></tr>\n",
       "\t<tr><td>unif        </td><td>numeric     </td><td>p100        </td><td>.all        </td><td>  0.99970650</td><td>1           </td></tr>\n",
       "\t<tr><td>unif        </td><td>numeric     </td><td>hist        </td><td>.all        </td><td>          NA</td><td>▆▃▇▇▆▅▅▅    </td></tr>\n",
       "\t<tr><td>bern        </td><td>integer     </td><td>missing     </td><td>.all        </td><td>  0.00000000</td><td>0           </td></tr>\n",
       "\t<tr><td>bern        </td><td>integer     </td><td>complete    </td><td>.all        </td><td>100.00000000</td><td>100         </td></tr>\n",
       "\t<tr><td>bern        </td><td>integer     </td><td>n           </td><td>.all        </td><td>100.00000000</td><td>100         </td></tr>\n",
       "\t<tr><td>bern        </td><td>integer     </td><td>mean        </td><td>.all        </td><td>  0.44000000</td><td>0.44        </td></tr>\n",
       "\t<tr><td>bern        </td><td>integer     </td><td>sd          </td><td>.all        </td><td>  0.49888765</td><td>0.5         </td></tr>\n",
       "\t<tr><td>bern        </td><td>integer     </td><td>p0          </td><td>.all        </td><td>  0.00000000</td><td>0           </td></tr>\n",
       "\t<tr><td>bern        </td><td>integer     </td><td>p25         </td><td>.all        </td><td>  0.00000000</td><td>0           </td></tr>\n",
       "\t<tr><td>bern        </td><td>integer     </td><td>median      </td><td>.all        </td><td>  0.00000000</td><td>0           </td></tr>\n",
       "\t<tr><td>bern        </td><td>integer     </td><td>p75         </td><td>.all        </td><td>  1.00000000</td><td>1           </td></tr>\n",
       "\t<tr><td>bern        </td><td>integer     </td><td>p100        </td><td>.all        </td><td>  1.00000000</td><td>1           </td></tr>\n",
       "\t<tr><td>bern        </td><td>integer     </td><td>hist        </td><td>.all        </td><td>          NA</td><td>▇▁▁▁▁▁▁▆    </td></tr>\n",
       "\t<tr><td>gamma       </td><td>numeric     </td><td>missing     </td><td>.all        </td><td>  0.00000000</td><td>0           </td></tr>\n",
       "\t<tr><td>gamma       </td><td>numeric     </td><td>complete    </td><td>.all        </td><td>100.00000000</td><td>100         </td></tr>\n",
       "\t<tr><td>gamma       </td><td>numeric     </td><td>n           </td><td>.all        </td><td>100.00000000</td><td>100         </td></tr>\n",
       "\t<tr><td>gamma       </td><td>numeric     </td><td>mean        </td><td>.all        </td><td>  1.55780404</td><td>1.56        </td></tr>\n",
       "\t<tr><td>gamma       </td><td>numeric     </td><td>sd          </td><td>.all        </td><td>  1.40703401</td><td>1.41        </td></tr>\n",
       "\t<tr><td>gamma       </td><td>numeric     </td><td>p0          </td><td>.all        </td><td>  0.01638454</td><td>0.016       </td></tr>\n",
       "\t<tr><td>gamma       </td><td>numeric     </td><td>p25         </td><td>.all        </td><td>  0.48768429</td><td>0.49        </td></tr>\n",
       "\t<tr><td>gamma       </td><td>numeric     </td><td>median      </td><td>.all        </td><td>  1.08718046</td><td>1.09        </td></tr>\n",
       "\t<tr><td>gamma       </td><td>numeric     </td><td>p75         </td><td>.all        </td><td>  2.11952945</td><td>2.12        </td></tr>\n",
       "\t<tr><td>gamma       </td><td>numeric     </td><td>p100        </td><td>.all        </td><td>  5.57925427</td><td>5.58        </td></tr>\n",
       "\t<tr><td>gamma       </td><td>numeric     </td><td>hist        </td><td>.all        </td><td>          NA</td><td>▇▆▃▂▂▁▁▁    </td></tr>\n",
       "</tbody>\n",
       "</table>\n"
      ],
      "text/latex": [
       "\\begin{tabular}{r|llllll}\n",
       " variable & type & stat & level & value & formatted\\\\\n",
       "\\hline\n",
       "\t unif         & numeric      & missing      & .all         &   0.00000000 & 0           \\\\\n",
       "\t unif         & numeric      & complete     & .all         & 100.00000000 & 100         \\\\\n",
       "\t unif         & numeric      & n            & .all         & 100.00000000 & 100         \\\\\n",
       "\t unif         & numeric      & mean         & .all         &   0.49401894 & 0.49        \\\\\n",
       "\t unif         & numeric      & sd           & .all         &   0.25992231 & 0.26        \\\\\n",
       "\t unif         & numeric      & p0           & .all         &   0.02287295 & 0.023       \\\\\n",
       "\t unif         & numeric      & p25          & .all         &   0.30916221 & 0.31        \\\\\n",
       "\t unif         & numeric      & median       & .all         &   0.47026868 & 0.47        \\\\\n",
       "\t unif         & numeric      & p75          & .all         &   0.70735798 & 0.71        \\\\\n",
       "\t unif         & numeric      & p100         & .all         &   0.99970650 & 1           \\\\\n",
       "\t unif         & numeric      & hist         & .all         &           NA & ▆▃▇▇▆▅▅▅    \\\\\n",
       "\t bern         & integer      & missing      & .all         &   0.00000000 & 0           \\\\\n",
       "\t bern         & integer      & complete     & .all         & 100.00000000 & 100         \\\\\n",
       "\t bern         & integer      & n            & .all         & 100.00000000 & 100         \\\\\n",
       "\t bern         & integer      & mean         & .all         &   0.44000000 & 0.44        \\\\\n",
       "\t bern         & integer      & sd           & .all         &   0.49888765 & 0.5         \\\\\n",
       "\t bern         & integer      & p0           & .all         &   0.00000000 & 0           \\\\\n",
       "\t bern         & integer      & p25          & .all         &   0.00000000 & 0           \\\\\n",
       "\t bern         & integer      & median       & .all         &   0.00000000 & 0           \\\\\n",
       "\t bern         & integer      & p75          & .all         &   1.00000000 & 1           \\\\\n",
       "\t bern         & integer      & p100         & .all         &   1.00000000 & 1           \\\\\n",
       "\t bern         & integer      & hist         & .all         &           NA & ▇▁▁▁▁▁▁▆    \\\\\n",
       "\t gamma        & numeric      & missing      & .all         &   0.00000000 & 0           \\\\\n",
       "\t gamma        & numeric      & complete     & .all         & 100.00000000 & 100         \\\\\n",
       "\t gamma        & numeric      & n            & .all         & 100.00000000 & 100         \\\\\n",
       "\t gamma        & numeric      & mean         & .all         &   1.55780404 & 1.56        \\\\\n",
       "\t gamma        & numeric      & sd           & .all         &   1.40703401 & 1.41        \\\\\n",
       "\t gamma        & numeric      & p0           & .all         &   0.01638454 & 0.016       \\\\\n",
       "\t gamma        & numeric      & p25          & .all         &   0.48768429 & 0.49        \\\\\n",
       "\t gamma        & numeric      & median       & .all         &   1.08718046 & 1.09        \\\\\n",
       "\t gamma        & numeric      & p75          & .all         &   2.11952945 & 2.12        \\\\\n",
       "\t gamma        & numeric      & p100         & .all         &   5.57925427 & 5.58        \\\\\n",
       "\t gamma        & numeric      & hist         & .all         &           NA & ▇▆▃▂▂▁▁▁    \\\\\n",
       "\\end{tabular}\n"
      ],
      "text/markdown": [
       "\n",
       "variable | type | stat | level | value | formatted | \n",
       "|---|---|---|---|---|---|---|---|---|---|---|---|---|---|---|---|---|---|---|---|---|---|---|---|---|---|---|---|---|---|---|---|---|\n",
       "| unif         | numeric      | missing      | .all         |   0.00000000 | 0            | \n",
       "| unif         | numeric      | complete     | .all         | 100.00000000 | 100          | \n",
       "| unif         | numeric      | n            | .all         | 100.00000000 | 100          | \n",
       "| unif         | numeric      | mean         | .all         |   0.49401894 | 0.49         | \n",
       "| unif         | numeric      | sd           | .all         |   0.25992231 | 0.26         | \n",
       "| unif         | numeric      | p0           | .all         |   0.02287295 | 0.023        | \n",
       "| unif         | numeric      | p25          | .all         |   0.30916221 | 0.31         | \n",
       "| unif         | numeric      | median       | .all         |   0.47026868 | 0.47         | \n",
       "| unif         | numeric      | p75          | .all         |   0.70735798 | 0.71         | \n",
       "| unif         | numeric      | p100         | .all         |   0.99970650 | 1            | \n",
       "| unif         | numeric      | hist         | .all         |           NA | ▆▃▇▇▆▅▅▅     | \n",
       "| bern         | integer      | missing      | .all         |   0.00000000 | 0            | \n",
       "| bern         | integer      | complete     | .all         | 100.00000000 | 100          | \n",
       "| bern         | integer      | n            | .all         | 100.00000000 | 100          | \n",
       "| bern         | integer      | mean         | .all         |   0.44000000 | 0.44         | \n",
       "| bern         | integer      | sd           | .all         |   0.49888765 | 0.5          | \n",
       "| bern         | integer      | p0           | .all         |   0.00000000 | 0            | \n",
       "| bern         | integer      | p25          | .all         |   0.00000000 | 0            | \n",
       "| bern         | integer      | median       | .all         |   0.00000000 | 0            | \n",
       "| bern         | integer      | p75          | .all         |   1.00000000 | 1            | \n",
       "| bern         | integer      | p100         | .all         |   1.00000000 | 1            | \n",
       "| bern         | integer      | hist         | .all         |           NA | ▇▁▁▁▁▁▁▆     | \n",
       "| gamma        | numeric      | missing      | .all         |   0.00000000 | 0            | \n",
       "| gamma        | numeric      | complete     | .all         | 100.00000000 | 100          | \n",
       "| gamma        | numeric      | n            | .all         | 100.00000000 | 100          | \n",
       "| gamma        | numeric      | mean         | .all         |   1.55780404 | 1.56         | \n",
       "| gamma        | numeric      | sd           | .all         |   1.40703401 | 1.41         | \n",
       "| gamma        | numeric      | p0           | .all         |   0.01638454 | 0.016        | \n",
       "| gamma        | numeric      | p25          | .all         |   0.48768429 | 0.49         | \n",
       "| gamma        | numeric      | median       | .all         |   1.08718046 | 1.09         | \n",
       "| gamma        | numeric      | p75          | .all         |   2.11952945 | 2.12         | \n",
       "| gamma        | numeric      | p100         | .all         |   5.57925427 | 5.58         | \n",
       "| gamma        | numeric      | hist         | .all         |           NA | ▇▆▃▂▂▁▁▁     | \n",
       "\n",
       "\n"
      ],
      "text/plain": [
       "   variable type    stat     level value        formatted\n",
       "1  unif     numeric missing  .all    0.00000000 0        \n",
       "2  unif     numeric complete .all  100.00000000 100      \n",
       "3  unif     numeric n        .all  100.00000000 100      \n",
       "4  unif     numeric mean     .all    0.49401894 0.49     \n",
       "5  unif     numeric sd       .all    0.25992231 0.26     \n",
       "6  unif     numeric p0       .all    0.02287295 0.023    \n",
       "7  unif     numeric p25      .all    0.30916221 0.31     \n",
       "8  unif     numeric median   .all    0.47026868 0.47     \n",
       "9  unif     numeric p75      .all    0.70735798 0.71     \n",
       "10 unif     numeric p100     .all    0.99970650 1        \n",
       "11 unif     numeric hist     .all            NA ▆▃▇▇▆▅▅▅ \n",
       "12 bern     integer missing  .all    0.00000000 0        \n",
       "13 bern     integer complete .all  100.00000000 100      \n",
       "14 bern     integer n        .all  100.00000000 100      \n",
       "15 bern     integer mean     .all    0.44000000 0.44     \n",
       "16 bern     integer sd       .all    0.49888765 0.5      \n",
       " [ reached getOption(\"max.print\") -- omitted 17 rows ]"
      ]
     },
     "metadata": {},
     "output_type": "display_data"
    }
   ],
   "source": [
    "# simulate 100 draws from a uniform(0,1) distribution\n",
    "Y_unif <- runif(n = 100, min = 0, max = 1)\n",
    "\n",
    "# simulate 100 draws from a bernoulli(0.5) distribution\n",
    "# recall that a bernoulli(p) distribution is just a binomial(n=1, p)\n",
    "Y_bern <- rbinom(n = 100, size = 1, prob = 0.5)\n",
    "\n",
    "# simulate 100 draws from a gamma(1,2) distribution\n",
    "Y_gamma <- rgamma(n = 100, shape = 1, scale = 2)\n",
    "\n",
    "# Let's skim these\n",
    "y_rv <- as_tibble(list(unif = Y_unif, bern = Y_bern, gamma = Y_gamma))\n",
    "skim(y_rv)"
   ]
  },
  {
   "cell_type": "markdown",
   "metadata": {},
   "source": [
    "`R` has several other functions for simulating data from various distributions. Additionally many packages have been constructed for simulating data from other distributions. Googling \"how to simulate from XYZ distribution\" will likely be sufficient to figure what package/functions you will need. \n",
    "\n",
    "Often, our experiment measures more than a single variable on each unit, so we might want to write a function that returns `n` copies of $O = (W,A,Y)$. Suppose that $O$ is distributed as follows\n",
    "\n",
    "$$ W \\sim Uniform(0,1) $$\n",
    "$$ A \\sim Bernoulli(expit[-1 + W]) $$\n",
    "$$ Y \\sim Normal(W + A, 1/2) $$\n",
    "\n",
    "We can now write a function that takes as input `n` and returns a `data.frame` object with rows corresponding to observations $O$ and columns corresponding to $W, A, Y$."
   ]
  },
  {
   "cell_type": "code",
   "execution_count": 25,
   "metadata": {},
   "outputs": [
    {
     "data": {
      "text/html": [
       "<ol class=list-inline>\n",
       "\t<li>'tbl_df'</li>\n",
       "\t<li>'tbl'</li>\n",
       "\t<li>'data.frame'</li>\n",
       "</ol>\n"
      ],
      "text/latex": [
       "\\begin{enumerate*}\n",
       "\\item 'tbl\\_df'\n",
       "\\item 'tbl'\n",
       "\\item 'data.frame'\n",
       "\\end{enumerate*}\n"
      ],
      "text/markdown": [
       "1. 'tbl_df'\n",
       "2. 'tbl'\n",
       "3. 'data.frame'\n",
       "\n",
       "\n"
      ],
      "text/plain": [
       "[1] \"tbl_df\"     \"tbl\"        \"data.frame\""
      ]
     },
     "metadata": {},
     "output_type": "display_data"
    }
   ],
   "source": [
    "# define a function that takes as input n (a numeric)\n",
    "make_data_O <- function(n) {\n",
    "    W <- runif(n, min = 0, max = 1)\n",
    "    # plogis is the pdf of the logistic distribution and \n",
    "    # plogis(x) = expit(x) = exp(x)/(1+exp(x))\n",
    "    A <- rbinom(n, size = 1, prob = plogis(-1 + W))\n",
    "    Y <- rnorm(n, mean = W + A, sd = sqrt(1/2))\n",
    "    \n",
    "    # return a data.frame object with named columns W, A, Y\n",
    "    return(as_tibble(list(W = W, A = A, Y = Y)))\n",
    "}\n",
    "\n",
    "# make a data set with 100 observations\n",
    "data_O_obs <- make_data_O(n = 100)\n",
    "\n",
    "# confirm that make_data_O() returned a tibble object\n",
    "class(data_O_obs)"
   ]
  },
  {
   "cell_type": "code",
   "execution_count": 26,
   "metadata": {},
   "outputs": [
    {
     "data": {
      "text/html": [
       "<table>\n",
       "<thead><tr><th scope=col>variable</th><th scope=col>type</th><th scope=col>stat</th><th scope=col>level</th><th scope=col>value</th><th scope=col>formatted</th></tr></thead>\n",
       "<tbody>\n",
       "\t<tr><td>W            </td><td>numeric      </td><td>missing      </td><td>.all         </td><td>  0.000000000</td><td>0            </td></tr>\n",
       "\t<tr><td>W            </td><td>numeric      </td><td>complete     </td><td>.all         </td><td>100.000000000</td><td>100          </td></tr>\n",
       "\t<tr><td>W            </td><td>numeric      </td><td>n            </td><td>.all         </td><td>100.000000000</td><td>100          </td></tr>\n",
       "\t<tr><td>W            </td><td>numeric      </td><td>mean         </td><td>.all         </td><td>  0.508036909</td><td>0.51         </td></tr>\n",
       "\t<tr><td>W            </td><td>numeric      </td><td>sd           </td><td>.all         </td><td>  0.287817470</td><td>0.29         </td></tr>\n",
       "\t<tr><td>W            </td><td>numeric      </td><td>p0           </td><td>.all         </td><td>  0.008145839</td><td>0.0081       </td></tr>\n",
       "\t<tr><td>W            </td><td>numeric      </td><td>p25          </td><td>.all         </td><td>  0.262854320</td><td>0.26         </td></tr>\n",
       "\t<tr><td>W            </td><td>numeric      </td><td>median       </td><td>.all         </td><td>  0.519560866</td><td>0.52         </td></tr>\n",
       "\t<tr><td>W            </td><td>numeric      </td><td>p75          </td><td>.all         </td><td>  0.736241402</td><td>0.74         </td></tr>\n",
       "\t<tr><td>W            </td><td>numeric      </td><td>p100         </td><td>.all         </td><td>  0.997624422</td><td>1            </td></tr>\n",
       "\t<tr><td>W            </td><td>numeric      </td><td>hist         </td><td>.all         </td><td>           NA</td><td>▆▇▅▇▆▇▆▆     </td></tr>\n",
       "\t<tr><td>A            </td><td>integer      </td><td>missing      </td><td>.all         </td><td>  0.000000000</td><td>0            </td></tr>\n",
       "\t<tr><td>A            </td><td>integer      </td><td>complete     </td><td>.all         </td><td>100.000000000</td><td>100          </td></tr>\n",
       "\t<tr><td>A            </td><td>integer      </td><td>n            </td><td>.all         </td><td>100.000000000</td><td>100          </td></tr>\n",
       "\t<tr><td>A            </td><td>integer      </td><td>mean         </td><td>.all         </td><td>  0.350000000</td><td>0.35         </td></tr>\n",
       "\t<tr><td>A            </td><td>integer      </td><td>sd           </td><td>.all         </td><td>  0.479372485</td><td>0.48         </td></tr>\n",
       "\t<tr><td>A            </td><td>integer      </td><td>p0           </td><td>.all         </td><td>  0.000000000</td><td>0            </td></tr>\n",
       "\t<tr><td>A            </td><td>integer      </td><td>p25          </td><td>.all         </td><td>  0.000000000</td><td>0            </td></tr>\n",
       "\t<tr><td>A            </td><td>integer      </td><td>median       </td><td>.all         </td><td>  0.000000000</td><td>0            </td></tr>\n",
       "\t<tr><td>A            </td><td>integer      </td><td>p75          </td><td>.all         </td><td>  1.000000000</td><td>1            </td></tr>\n",
       "\t<tr><td>A            </td><td>integer      </td><td>p100         </td><td>.all         </td><td>  1.000000000</td><td>1            </td></tr>\n",
       "\t<tr><td>A            </td><td>integer      </td><td>hist         </td><td>.all         </td><td>           NA</td><td>▇▁▁▁▁▁▁▅     </td></tr>\n",
       "\t<tr><td>Y            </td><td>numeric      </td><td>missing      </td><td>.all         </td><td>  0.000000000</td><td>0            </td></tr>\n",
       "\t<tr><td>Y            </td><td>numeric      </td><td>complete     </td><td>.all         </td><td>100.000000000</td><td>100          </td></tr>\n",
       "\t<tr><td>Y            </td><td>numeric      </td><td>n            </td><td>.all         </td><td>100.000000000</td><td>100          </td></tr>\n",
       "\t<tr><td>Y            </td><td>numeric      </td><td>mean         </td><td>.all         </td><td>  0.959493484</td><td>0.96         </td></tr>\n",
       "\t<tr><td>Y            </td><td>numeric      </td><td>sd           </td><td>.all         </td><td>  0.914968502</td><td>0.91         </td></tr>\n",
       "\t<tr><td>Y            </td><td>numeric      </td><td>p0           </td><td>.all         </td><td> -1.223206222</td><td>-1.22        </td></tr>\n",
       "\t<tr><td>Y            </td><td>numeric      </td><td>p25          </td><td>.all         </td><td>  0.295534856</td><td>0.3          </td></tr>\n",
       "\t<tr><td>Y            </td><td>numeric      </td><td>median       </td><td>.all         </td><td>  0.923989197</td><td>0.92         </td></tr>\n",
       "\t<tr><td>Y            </td><td>numeric      </td><td>p75          </td><td>.all         </td><td>  1.618579997</td><td>1.62         </td></tr>\n",
       "\t<tr><td>Y            </td><td>numeric      </td><td>p100         </td><td>.all         </td><td>  3.165030308</td><td>3.17         </td></tr>\n",
       "\t<tr><td>Y            </td><td>numeric      </td><td>hist         </td><td>.all         </td><td>           NA</td><td>▁▃▅▇▅▆▂▁     </td></tr>\n",
       "</tbody>\n",
       "</table>\n"
      ],
      "text/latex": [
       "\\begin{tabular}{r|llllll}\n",
       " variable & type & stat & level & value & formatted\\\\\n",
       "\\hline\n",
       "\t W             & numeric       & missing       & .all          &   0.000000000 & 0            \\\\\n",
       "\t W             & numeric       & complete      & .all          & 100.000000000 & 100          \\\\\n",
       "\t W             & numeric       & n             & .all          & 100.000000000 & 100          \\\\\n",
       "\t W             & numeric       & mean          & .all          &   0.508036909 & 0.51         \\\\\n",
       "\t W             & numeric       & sd            & .all          &   0.287817470 & 0.29         \\\\\n",
       "\t W             & numeric       & p0            & .all          &   0.008145839 & 0.0081       \\\\\n",
       "\t W             & numeric       & p25           & .all          &   0.262854320 & 0.26         \\\\\n",
       "\t W             & numeric       & median        & .all          &   0.519560866 & 0.52         \\\\\n",
       "\t W             & numeric       & p75           & .all          &   0.736241402 & 0.74         \\\\\n",
       "\t W             & numeric       & p100          & .all          &   0.997624422 & 1            \\\\\n",
       "\t W             & numeric       & hist          & .all          &            NA & ▆▇▅▇▆▇▆▆     \\\\\n",
       "\t A             & integer       & missing       & .all          &   0.000000000 & 0            \\\\\n",
       "\t A             & integer       & complete      & .all          & 100.000000000 & 100          \\\\\n",
       "\t A             & integer       & n             & .all          & 100.000000000 & 100          \\\\\n",
       "\t A             & integer       & mean          & .all          &   0.350000000 & 0.35         \\\\\n",
       "\t A             & integer       & sd            & .all          &   0.479372485 & 0.48         \\\\\n",
       "\t A             & integer       & p0            & .all          &   0.000000000 & 0            \\\\\n",
       "\t A             & integer       & p25           & .all          &   0.000000000 & 0            \\\\\n",
       "\t A             & integer       & median        & .all          &   0.000000000 & 0            \\\\\n",
       "\t A             & integer       & p75           & .all          &   1.000000000 & 1            \\\\\n",
       "\t A             & integer       & p100          & .all          &   1.000000000 & 1            \\\\\n",
       "\t A             & integer       & hist          & .all          &            NA & ▇▁▁▁▁▁▁▅     \\\\\n",
       "\t Y             & numeric       & missing       & .all          &   0.000000000 & 0            \\\\\n",
       "\t Y             & numeric       & complete      & .all          & 100.000000000 & 100          \\\\\n",
       "\t Y             & numeric       & n             & .all          & 100.000000000 & 100          \\\\\n",
       "\t Y             & numeric       & mean          & .all          &   0.959493484 & 0.96         \\\\\n",
       "\t Y             & numeric       & sd            & .all          &   0.914968502 & 0.91         \\\\\n",
       "\t Y             & numeric       & p0            & .all          &  -1.223206222 & -1.22        \\\\\n",
       "\t Y             & numeric       & p25           & .all          &   0.295534856 & 0.3          \\\\\n",
       "\t Y             & numeric       & median        & .all          &   0.923989197 & 0.92         \\\\\n",
       "\t Y             & numeric       & p75           & .all          &   1.618579997 & 1.62         \\\\\n",
       "\t Y             & numeric       & p100          & .all          &   3.165030308 & 3.17         \\\\\n",
       "\t Y             & numeric       & hist          & .all          &            NA & ▁▃▅▇▅▆▂▁     \\\\\n",
       "\\end{tabular}\n"
      ],
      "text/markdown": [
       "\n",
       "variable | type | stat | level | value | formatted | \n",
       "|---|---|---|---|---|---|---|---|---|---|---|---|---|---|---|---|---|---|---|---|---|---|---|---|---|---|---|---|---|---|---|---|---|\n",
       "| W             | numeric       | missing       | .all          |   0.000000000 | 0             | \n",
       "| W             | numeric       | complete      | .all          | 100.000000000 | 100           | \n",
       "| W             | numeric       | n             | .all          | 100.000000000 | 100           | \n",
       "| W             | numeric       | mean          | .all          |   0.508036909 | 0.51          | \n",
       "| W             | numeric       | sd            | .all          |   0.287817470 | 0.29          | \n",
       "| W             | numeric       | p0            | .all          |   0.008145839 | 0.0081        | \n",
       "| W             | numeric       | p25           | .all          |   0.262854320 | 0.26          | \n",
       "| W             | numeric       | median        | .all          |   0.519560866 | 0.52          | \n",
       "| W             | numeric       | p75           | .all          |   0.736241402 | 0.74          | \n",
       "| W             | numeric       | p100          | .all          |   0.997624422 | 1             | \n",
       "| W             | numeric       | hist          | .all          |            NA | ▆▇▅▇▆▇▆▆      | \n",
       "| A             | integer       | missing       | .all          |   0.000000000 | 0             | \n",
       "| A             | integer       | complete      | .all          | 100.000000000 | 100           | \n",
       "| A             | integer       | n             | .all          | 100.000000000 | 100           | \n",
       "| A             | integer       | mean          | .all          |   0.350000000 | 0.35          | \n",
       "| A             | integer       | sd            | .all          |   0.479372485 | 0.48          | \n",
       "| A             | integer       | p0            | .all          |   0.000000000 | 0             | \n",
       "| A             | integer       | p25           | .all          |   0.000000000 | 0             | \n",
       "| A             | integer       | median        | .all          |   0.000000000 | 0             | \n",
       "| A             | integer       | p75           | .all          |   1.000000000 | 1             | \n",
       "| A             | integer       | p100          | .all          |   1.000000000 | 1             | \n",
       "| A             | integer       | hist          | .all          |            NA | ▇▁▁▁▁▁▁▅      | \n",
       "| Y             | numeric       | missing       | .all          |   0.000000000 | 0             | \n",
       "| Y             | numeric       | complete      | .all          | 100.000000000 | 100           | \n",
       "| Y             | numeric       | n             | .all          | 100.000000000 | 100           | \n",
       "| Y             | numeric       | mean          | .all          |   0.959493484 | 0.96          | \n",
       "| Y             | numeric       | sd            | .all          |   0.914968502 | 0.91          | \n",
       "| Y             | numeric       | p0            | .all          |  -1.223206222 | -1.22         | \n",
       "| Y             | numeric       | p25           | .all          |   0.295534856 | 0.3           | \n",
       "| Y             | numeric       | median        | .all          |   0.923989197 | 0.92          | \n",
       "| Y             | numeric       | p75           | .all          |   1.618579997 | 1.62          | \n",
       "| Y             | numeric       | p100          | .all          |   3.165030308 | 3.17          | \n",
       "| Y             | numeric       | hist          | .all          |            NA | ▁▃▅▇▅▆▂▁      | \n",
       "\n",
       "\n"
      ],
      "text/plain": [
       "   variable type    stat     level value         formatted\n",
       "1  W        numeric missing  .all    0.000000000 0        \n",
       "2  W        numeric complete .all  100.000000000 100      \n",
       "3  W        numeric n        .all  100.000000000 100      \n",
       "4  W        numeric mean     .all    0.508036909 0.51     \n",
       "5  W        numeric sd       .all    0.287817470 0.29     \n",
       "6  W        numeric p0       .all    0.008145839 0.0081   \n",
       "7  W        numeric p25      .all    0.262854320 0.26     \n",
       "8  W        numeric median   .all    0.519560866 0.52     \n",
       "9  W        numeric p75      .all    0.736241402 0.74     \n",
       "10 W        numeric p100     .all    0.997624422 1        \n",
       "11 W        numeric hist     .all             NA ▆▇▅▇▆▇▆▆ \n",
       "12 A        integer missing  .all    0.000000000 0        \n",
       "13 A        integer complete .all  100.000000000 100      \n",
       "14 A        integer n        .all  100.000000000 100      \n",
       "15 A        integer mean     .all    0.350000000 0.35     \n",
       "16 A        integer sd       .all    0.479372485 0.48     \n",
       " [ reached getOption(\"max.print\") -- omitted 17 rows ]"
      ]
     },
     "metadata": {},
     "output_type": "display_data"
    }
   ],
   "source": [
    "# let's skim over the observed data\n",
    "skim(data_O_obs)"
   ]
  },
  {
   "cell_type": "markdown",
   "metadata": {},
   "source": [
    "Notice that in our function, we specified the vector `W` as above. However, when we generated `A`, rather than giving the `prob` argument of the `rbinom` function a numeric, we gave it a vector `plogis(-1 + W)`. The function is smart enough to know that when we give it a scalar argument for `size`, but a vector argument for `prob`, we mean that we want all `n` objects to be random draws from a binomimal distribution with `size = 1`, but whose probabilities vary according to the vector `plogis(-1 + W)`. \n",
    "\n",
    "Our function returned a `tibble` object. These objects in `R` can be useful for interfacing with certain functions like `glm`, that we'll meet in a minute (just like the canonical `data.frame`). These objects consist of named vectors of the same length that are stored as columns. Using the `$` operator accesses the a named attribute of the object. In addition, `tibble`s form the core object of the Tidyverse, a useful set of tools with which you should strive to be familiar."
   ]
  },
  {
   "cell_type": "markdown",
   "metadata": {},
   "source": [
    "We conclude this section with a quick statement of a fact that may be obvious but bears mention. We have not idiot-proofed the function `make_data_O`. That is, the function expects a numeric input `n` and if we give it something crazy, the results will be unexpected. We can see this like so"
   ]
  },
  {
   "cell_type": "code",
   "execution_count": 27,
   "metadata": {},
   "outputs": [
    {
     "name": "stderr",
     "output_type": "stream",
     "text": [
      "Warning message in runif(n, min = 0, max = 1):\n",
      "“NAs introduced by coercion”"
     ]
    },
    {
     "ename": "ERROR",
     "evalue": "Error in runif(n, min = 0, max = 1): invalid arguments\n",
     "output_type": "error",
     "traceback": [
      "Error in runif(n, min = 0, max = 1): invalid arguments\nTraceback:\n",
      "1. make_data_O(n = \"something crazy\")",
      "2. runif(n, min = 0, max = 1)   # at line 3 of file <text>"
     ]
    }
   ],
   "source": [
    "make_data_O(n = \"something crazy\")"
   ]
  },
  {
   "cell_type": "markdown",
   "metadata": {},
   "source": [
    "Above, the function tried to pass the character object `n` into `runif`, which threw an error. If only you will ever use your function, it may not be worth your time to include sanity checks; however, if others will use your function, it's (usually) worth it to build in some checks of function inputs and throw errors if input is unexpected. Here's an example:"
   ]
  },
  {
   "cell_type": "code",
   "execution_count": 29,
   "metadata": {
    "collapsed": true
   },
   "outputs": [],
   "source": [
    "# define a function that takes as input n (a numeric)\n",
    "make_sane_data_O <- function(n){\n",
    "    # check whether n is of class numeric\n",
    "    if(class(n) != \"numeric\"){\n",
    "        stop(\"n is not numeric. Can't simulate data.\")\n",
    "    }\n",
    "    W <- runif(n, min = 0, max = 1)\n",
    "    # plogis is the pdf of the logistic distribution and \n",
    "    # plogis(x) = expit(x) = exp(x)/(1+exp(x))\n",
    "    A <- rbinom(n, size = 1, prob = plogis(-1 + W))\n",
    "    Y <- rnorm(n, mean = W + A, sd = sqrt(1/2))\n",
    "    \n",
    "    # return a data.frame object with named columns W, A, Y\n",
    "    return(as_tibble(list(W = W, A = A, Y = Y)))\n",
    "}"
   ]
  },
  {
   "cell_type": "code",
   "execution_count": 30,
   "metadata": {},
   "outputs": [
    {
     "ename": "ERROR",
     "evalue": "Error in make_sane_data_O(n = \"something crazy\"): n is not numeric. Can't simulate data.\n",
     "output_type": "error",
     "traceback": [
      "Error in make_sane_data_O(n = \"something crazy\"): n is not numeric. Can't simulate data.\nTraceback:\n",
      "1. make_sane_data_O(n = \"something crazy\")",
      "2. stop(\"n is not numeric. Can't simulate data.\")   # at line 5 of file <text>"
     ]
    }
   ],
   "source": [
    "make_sane_data_O(n = \"something crazy\")"
   ]
  },
  {
   "cell_type": "markdown",
   "metadata": {},
   "source": [
    "### Resources:\n",
    "* [_R for Reproducible Scientific Analysis_ (Software Carpentry)](https://swcarpentry.github.io/r-novice-gapminder/)\n",
    "* [Tools for Reproducible Research (Karl Broman, UW-Madison)](http://kbroman.org/Tools4RR/)\n",
    "* [_Version Control with git_ (Software Carpentry)](https://swcarpentry.github.io/git-novice/)\n",
    "* [_Happy git and GitHub for the userR_ (Jenny Bryan)](http://happygitwithr.com/)\n",
    "* [git for Humans (Alice Bartlett)](https://speakerdeck.com/alicebartlett/git-for-humans)\n",
    "* [Introduction to git (Berkeley Stat 259, KJ Millman)](http://www.jarrodmillman.com/rcsds/standard/git-intro.html)\n",
    "* [Interactive git Tutorial (GitHub)](https://try.github.io/levels/1/challenges/1)"
   ]
  },
  {
   "cell_type": "markdown",
   "metadata": {},
   "source": [
    "### Appendix: Ceci n'est pas une pipe.\n",
    "\n",
    "* See http://r4ds.had.co.nz/pipes.html"
   ]
  },
  {
   "cell_type": "markdown",
   "metadata": {},
   "source": [
    "---"
   ]
  },
  {
   "cell_type": "markdown",
   "metadata": {},
   "source": [
    "# Introduction to GLMs in R\n",
    "## Lab 02 for PH 290: Targeted Learning in Biomedical Big Data\n",
    "### Author: [Nima Hejazi](https://nimahejazi.org)\n",
    "### Date: 17 January 2017\n",
    "### Attribution: adapted from source materials by [David Benkeser](https://github.com/benkeser)"
   ]
  },
  {
   "cell_type": "markdown",
   "metadata": {},
   "source": [
    "## III. Fitting basic GLMs\n",
    "\n",
    "The first lab assignment asks you to fit several [generalized linear models](https://en.wikipedia.org/wiki/Generalized_linear_model). A generalized linear model for an observation $O=(W,A,Y)$ assumes that the conditional distribution of $Y$ given $A, W$ has some parameteric distribution (typically one from the Exponential Family) and that the conditional mean of $Y$ given $A,W$ can be written as\n",
    "\n",
    "$$ g[E(Y | A, W)] = \\beta_0 + \\beta_1 A + \\beta_2 W  \\ . $$\n",
    "\n",
    "There is typically a choice of the link function $g()$ that is associated with a particular parametric family; this is known as the canonical link function. For example, when $Y \\in \\{0,1\\}$ we assume that $Y$ is Bernoulli distribution with $g(x) = log[x/(1-x)]$ -- also known as the logit link function. `R` has so-called `family` objects built in that can identify these relationships."
   ]
  },
  {
   "cell_type": "code",
   "execution_count": 35,
   "metadata": {},
   "outputs": [
    {
     "data": {
      "text/plain": [
       "\n",
       "Family: binomial \n",
       "Link function: logit \n"
      ]
     },
     "metadata": {},
     "output_type": "display_data"
    },
    {
     "data": {
      "text/plain": [
       "\n",
       "Family: gaussian \n",
       "Link function: identity \n"
      ]
     },
     "metadata": {},
     "output_type": "display_data"
    },
    {
     "data": {
      "text/plain": [
       "\n",
       "Family: poisson \n",
       "Link function: log \n"
      ]
     },
     "metadata": {},
     "output_type": "display_data"
    },
    {
     "data": {
      "text/plain": [
       "\n",
       "Family: Gamma \n",
       "Link function: inverse \n"
      ]
     },
     "metadata": {},
     "output_type": "display_data"
    }
   ],
   "source": [
    "# for logisitic regression\n",
    "binomial()\n",
    "# for linear regression\n",
    "gaussian()\n",
    "# for poisson regression\n",
    "poisson()\n",
    "# for Gamma regression (make sure G is capital!)\n",
    "Gamma()"
   ]
  },
  {
   "cell_type": "markdown",
   "metadata": {},
   "source": [
    "The unknown parameters of a GLM are typically estimated via maximum likelihood, which can be achieved in `R` through the use of the `glm` function. Below, we illustrate a couple different ways to call `glm`. "
   ]
  },
  {
   "cell_type": "code",
   "execution_count": 37,
   "metadata": {},
   "outputs": [
    {
     "data": {
      "text/html": [
       "<ol class=list-inline>\n",
       "\t<li>'glm'</li>\n",
       "\t<li>'lm'</li>\n",
       "</ol>\n"
      ],
      "text/latex": [
       "\\begin{enumerate*}\n",
       "\\item 'glm'\n",
       "\\item 'lm'\n",
       "\\end{enumerate*}\n"
      ],
      "text/markdown": [
       "1. 'glm'\n",
       "2. 'lm'\n",
       "\n",
       "\n"
      ],
      "text/plain": [
       "[1] \"glm\" \"lm\" "
      ]
     },
     "metadata": {},
     "output_type": "display_data"
    },
    {
     "data": {
      "text/plain": [
       "\n",
       "Call:\n",
       "glm(formula = \"Y ~ A + W\", family = gaussian(), data = .)\n",
       "\n",
       "Deviance Residuals: \n",
       "     Min        1Q    Median        3Q       Max  \n",
       "-1.51390  -0.44471  -0.03176   0.39016   1.61826  \n",
       "\n",
       "Coefficients:\n",
       "            Estimate Std. Error t value          Pr(>|t|)\n",
       "(Intercept)   0.1817     0.1343   1.353            0.1792\n",
       "A             1.2030     0.1395   8.626 0.000000000000123\n",
       "W             0.7022     0.2323   3.023            0.0032\n",
       "\n",
       "(Dispersion parameter for gaussian family taken to be 0.4217676)\n",
       "\n",
       "    Null deviance: 82.880  on 99  degrees of freedom\n",
       "Residual deviance: 40.911  on 97  degrees of freedom\n",
       "AIC: 202.41\n",
       "\n",
       "Number of Fisher Scoring iterations: 2\n"
      ]
     },
     "metadata": {},
     "output_type": "display_data"
    }
   ],
   "source": [
    "# we'll use our data.frame object dat from before to fit the\n",
    "# linear regression Y = \\beta_0 + \\beta_1 A + \\beta_2 W\n",
    "\n",
    "# first we can specify a formula and a data.frame object\n",
    "mod_1 <- data_O_obs %>%\n",
    "  glm(formula = \"Y ~ A + W\", data = ., family = gaussian())\n",
    "\n",
    "# check the class\n",
    "class(mod_1)\n",
    "\n",
    "# summarize the results\n",
    "summary(mod_1)"
   ]
  },
  {
   "cell_type": "markdown",
   "metadata": {},
   "source": [
    "How about logistic regression this time? We'll need new data though..."
   ]
  },
  {
   "cell_type": "code",
   "execution_count": 38,
   "metadata": {
    "collapsed": true
   },
   "outputs": [],
   "source": [
    "# define a function that takes as input n (a numeric)\n",
    "# and returns n copies of O=(W, A, Y) where Y \\in \\{0,1\\}\n",
    "make_binary_O <- function(n) {\n",
    "    W <- runif(n, min = 0, max = 1)\n",
    "    # plogis is the pdf of the logistic distribution and \n",
    "    # plogis(x) = expit(x) = exp(x)/(1+exp(x))\n",
    "    A <- rbinom(n, size = 1, prob = plogis(-1 + W))\n",
    "    # now Y is binary\n",
    "    Y <- rbinom(n, size = 1, prob = plogis(-1 + W + A))\n",
    "    \n",
    "    # return a data.frame object with named columns W, A, Y\n",
    "    return(as_tibble(list(W = W, A = A, Y = Y)))\n",
    "}"
   ]
  },
  {
   "cell_type": "code",
   "execution_count": 42,
   "metadata": {},
   "outputs": [
    {
     "data": {
      "text/plain": [
       "\n",
       "Call:\n",
       "glm(formula = \"Y ~ A + W\", family = binomial(), data = .)\n",
       "\n",
       "Deviance Residuals: \n",
       "    Min       1Q   Median       3Q      Max  \n",
       "-1.3282  -0.8670  -0.7749   1.1608   1.7023  \n",
       "\n",
       "Coefficients:\n",
       "            Estimate Std. Error z value Pr(>|z|)\n",
       "(Intercept)  -1.2185     0.4602  -2.648   0.0081\n",
       "A             0.9839     0.4310   2.282   0.0225\n",
       "W             0.6116     0.7424   0.824   0.4101\n",
       "\n",
       "(Dispersion parameter for binomial family taken to be 1)\n",
       "\n",
       "    Null deviance: 132.81  on 99  degrees of freedom\n",
       "Residual deviance: 126.20  on 97  degrees of freedom\n",
       "AIC: 132.2\n",
       "\n",
       "Number of Fisher Scoring iterations: 4\n"
      ]
     },
     "metadata": {},
     "output_type": "display_data"
    }
   ],
   "source": [
    "# generate the data and fit logistic regression\n",
    "binary_O <- make_binary_O(n = 100)\n",
    "\n",
    "# remember, we need family = binomial for logistic regression\n",
    "mod_2 <- binary_O %>%\n",
    "  glm(\"Y ~ A + W\", data = ., family = binomial())\n",
    "\n",
    "# summarize the model output\n",
    "summary(mod_2)"
   ]
  },
  {
   "cell_type": "markdown",
   "metadata": {},
   "source": [
    "The method `summary.glm` returns Wald-style tests that the estimated regression parameters are equal to zero. Let\\'s figure out how to access those values.\n",
    "\n",
    "To access these values, we can look inside the model object like so"
   ]
  },
  {
   "cell_type": "code",
   "execution_count": 43,
   "metadata": {},
   "outputs": [
    {
     "data": {
      "text/html": [
       "<ol class=list-inline>\n",
       "\t<li>'aic'</li>\n",
       "\t<li>'boundary'</li>\n",
       "\t<li>'call'</li>\n",
       "\t<li>'coefficients'</li>\n",
       "\t<li>'contrasts'</li>\n",
       "\t<li>'control'</li>\n",
       "\t<li>'converged'</li>\n",
       "\t<li>'data'</li>\n",
       "\t<li>'deviance'</li>\n",
       "\t<li>'df.null'</li>\n",
       "\t<li>'df.residual'</li>\n",
       "\t<li>'effects'</li>\n",
       "\t<li>'family'</li>\n",
       "\t<li>'fitted.values'</li>\n",
       "\t<li>'formula'</li>\n",
       "\t<li>'iter'</li>\n",
       "\t<li>'linear.predictors'</li>\n",
       "\t<li>'method'</li>\n",
       "\t<li>'model'</li>\n",
       "\t<li>'null.deviance'</li>\n",
       "\t<li>'offset'</li>\n",
       "\t<li>'prior.weights'</li>\n",
       "\t<li>'qr'</li>\n",
       "\t<li>'R'</li>\n",
       "\t<li>'rank'</li>\n",
       "\t<li>'residuals'</li>\n",
       "\t<li>'terms'</li>\n",
       "\t<li>'weights'</li>\n",
       "\t<li>'xlevels'</li>\n",
       "\t<li>'y'</li>\n",
       "</ol>\n"
      ],
      "text/latex": [
       "\\begin{enumerate*}\n",
       "\\item 'aic'\n",
       "\\item 'boundary'\n",
       "\\item 'call'\n",
       "\\item 'coefficients'\n",
       "\\item 'contrasts'\n",
       "\\item 'control'\n",
       "\\item 'converged'\n",
       "\\item 'data'\n",
       "\\item 'deviance'\n",
       "\\item 'df.null'\n",
       "\\item 'df.residual'\n",
       "\\item 'effects'\n",
       "\\item 'family'\n",
       "\\item 'fitted.values'\n",
       "\\item 'formula'\n",
       "\\item 'iter'\n",
       "\\item 'linear.predictors'\n",
       "\\item 'method'\n",
       "\\item 'model'\n",
       "\\item 'null.deviance'\n",
       "\\item 'offset'\n",
       "\\item 'prior.weights'\n",
       "\\item 'qr'\n",
       "\\item 'R'\n",
       "\\item 'rank'\n",
       "\\item 'residuals'\n",
       "\\item 'terms'\n",
       "\\item 'weights'\n",
       "\\item 'xlevels'\n",
       "\\item 'y'\n",
       "\\end{enumerate*}\n"
      ],
      "text/markdown": [
       "1. 'aic'\n",
       "2. 'boundary'\n",
       "3. 'call'\n",
       "4. 'coefficients'\n",
       "5. 'contrasts'\n",
       "6. 'control'\n",
       "7. 'converged'\n",
       "8. 'data'\n",
       "9. 'deviance'\n",
       "10. 'df.null'\n",
       "11. 'df.residual'\n",
       "12. 'effects'\n",
       "13. 'family'\n",
       "14. 'fitted.values'\n",
       "15. 'formula'\n",
       "16. 'iter'\n",
       "17. 'linear.predictors'\n",
       "18. 'method'\n",
       "19. 'model'\n",
       "20. 'null.deviance'\n",
       "21. 'offset'\n",
       "22. 'prior.weights'\n",
       "23. 'qr'\n",
       "24. 'R'\n",
       "25. 'rank'\n",
       "26. 'residuals'\n",
       "27. 'terms'\n",
       "28. 'weights'\n",
       "29. 'xlevels'\n",
       "30. 'y'\n",
       "\n",
       "\n"
      ],
      "text/plain": [
       " [1] \"aic\"               \"boundary\"          \"call\"             \n",
       " [4] \"coefficients\"      \"contrasts\"         \"control\"          \n",
       " [7] \"converged\"         \"data\"              \"deviance\"         \n",
       "[10] \"df.null\"           \"df.residual\"       \"effects\"          \n",
       "[13] \"family\"            \"fitted.values\"     \"formula\"          \n",
       "[16] \"iter\"              \"linear.predictors\" \"method\"           \n",
       "[19] \"model\"             \"null.deviance\"     \"offset\"           \n",
       "[22] \"prior.weights\"     \"qr\"                \"R\"                \n",
       "[25] \"rank\"              \"residuals\"         \"terms\"            \n",
       "[28] \"weights\"           \"xlevels\"           \"y\"                "
      ]
     },
     "metadata": {},
     "output_type": "display_data"
    }
   ],
   "source": [
    "objects(mod_2)"
   ]
  },
  {
   "cell_type": "code",
   "execution_count": 44,
   "metadata": {},
   "outputs": [
    {
     "data": {
      "text/html": [
       "<dl class=dl-horizontal>\n",
       "\t<dt>(Intercept)</dt>\n",
       "\t\t<dd>-1.21847334364193</dd>\n",
       "\t<dt>A</dt>\n",
       "\t\t<dd>0.98385648844088</dd>\n",
       "\t<dt>W</dt>\n",
       "\t\t<dd>0.611577019152868</dd>\n",
       "</dl>\n"
      ],
      "text/latex": [
       "\\begin{description*}\n",
       "\\item[(Intercept)] -1.21847334364193\n",
       "\\item[A] 0.98385648844088\n",
       "\\item[W] 0.611577019152868\n",
       "\\end{description*}\n"
      ],
      "text/markdown": [
       "(Intercept)\n",
       ":   -1.21847334364193A\n",
       ":   0.98385648844088W\n",
       ":   0.611577019152868\n",
       "\n"
      ],
      "text/plain": [
       "(Intercept)           A           W \n",
       " -1.2184733   0.9838565   0.6115770 "
      ]
     },
     "metadata": {},
     "output_type": "display_data"
    }
   ],
   "source": [
    "## looks like we might want \"coefficients\"\n",
    "mod_2$coefficients"
   ]
  },
  {
   "cell_type": "markdown",
   "metadata": {},
   "source": [
    "## IV. Simulation basics\n",
    "We now have all the components we need to execute a basic simulation. In frequentist statistics, we care a lot about what happens to a given summary measure of data (i.e., a statistic) over repeated experiments. Whereas in real life, we typically only get data from one or two repeated experiments where we don't know the real answer, in simulations we can generate many, many experiments where we do know the answer. \n",
    "\n",
    "Suppose we are interested in the power of a statistical test. That is, if the null hypothesis is not true, what is the probability (i.e., proportion of times over repeated experiments) that we correctly reject the null hypothesis. Below, we define a couple functions that we will combine into a function that executes one simulation (i.e., one analysis for one data set)."
   ]
  },
  {
   "cell_type": "code",
   "execution_count": 46,
   "metadata": {},
   "outputs": [
    {
     "data": {
      "text/html": [
       "TRUE"
      ],
      "text/latex": [
       "TRUE"
      ],
      "text/markdown": [
       "TRUE"
      ],
      "text/plain": [
       "[1] TRUE"
      ]
     },
     "metadata": {},
     "output_type": "display_data"
    }
   ],
   "source": [
    "# a function that takes as input 'fm', a glm object and returns whether\n",
    "# or not the p-value for the coefficient associated with A is \n",
    "# rejected at the 0.05 level\n",
    "is_null_rejected <- function(fm) {\n",
    "    sumFm <- summary(fm)\n",
    "    p_val <- sumFm$coefficients[\"A\",\"Pr(>|z|)\"]\n",
    "    return(p_val < 0.05)\n",
    "}\n",
    "\n",
    "\n",
    "# a function that takes as input 'n', a scalar, simulates a data set\n",
    "# using makeBinaryO, estimates a main-terms glm and determines whether \n",
    "# the coefficient associated with A is rejected at the 0.05 level\n",
    "run_one_sim <- function(n) {\n",
    "    # make data set\n",
    "    dat <- make_binary_O(n = n)\n",
    "    # fit glm\n",
    "    fm <- glm(\"Y ~ A + W\", data = dat, family = binomial())\n",
    "    # get hypothesis test result\n",
    "    out <- is_null_rejected(fm)\n",
    "    # return\n",
    "    return(out)\n",
    "}\n",
    "\n",
    "# try it out\n",
    "run_one_sim(n = 100)"
   ]
  },
  {
   "cell_type": "markdown",
   "metadata": {},
   "source": [
    "Now we need to do this a large number of times. There are many ways to do this, a couple illustrated below. First, we start with a basic `for` loop."
   ]
  },
  {
   "cell_type": "code",
   "execution_count": 49,
   "metadata": {},
   "outputs": [
    {
     "data": {
      "text/html": [
       "<ol class=list-inline>\n",
       "\t<li>TRUE</li>\n",
       "\t<li>FALSE</li>\n",
       "\t<li>TRUE</li>\n",
       "\t<li>TRUE</li>\n",
       "\t<li>FALSE</li>\n",
       "\t<li>TRUE</li>\n",
       "</ol>\n"
      ],
      "text/latex": [
       "\\begin{enumerate*}\n",
       "\\item TRUE\n",
       "\\item FALSE\n",
       "\\item TRUE\n",
       "\\item TRUE\n",
       "\\item FALSE\n",
       "\\item TRUE\n",
       "\\end{enumerate*}\n"
      ],
      "text/markdown": [
       "1. TRUE\n",
       "2. FALSE\n",
       "3. TRUE\n",
       "4. TRUE\n",
       "5. FALSE\n",
       "6. TRUE\n",
       "\n",
       "\n"
      ],
      "text/plain": [
       "[1]  TRUE FALSE  TRUE  TRUE FALSE  TRUE"
      ]
     },
     "metadata": {},
     "output_type": "display_data"
    },
    {
     "data": {
      "text/html": [
       "<ol class=list-inline>\n",
       "\t<li>FALSE</li>\n",
       "\t<li>TRUE</li>\n",
       "\t<li>TRUE</li>\n",
       "\t<li>TRUE</li>\n",
       "\t<li>FALSE</li>\n",
       "\t<li>TRUE</li>\n",
       "</ol>\n"
      ],
      "text/latex": [
       "\\begin{enumerate*}\n",
       "\\item FALSE\n",
       "\\item TRUE\n",
       "\\item TRUE\n",
       "\\item TRUE\n",
       "\\item FALSE\n",
       "\\item TRUE\n",
       "\\end{enumerate*}\n"
      ],
      "text/markdown": [
       "1. FALSE\n",
       "2. TRUE\n",
       "3. TRUE\n",
       "4. TRUE\n",
       "5. FALSE\n",
       "6. TRUE\n",
       "\n",
       "\n"
      ],
      "text/plain": [
       "[1] FALSE  TRUE  TRUE  TRUE FALSE  TRUE"
      ]
     },
     "metadata": {},
     "output_type": "display_data"
    },
    {
     "name": "stdout",
     "output_type": "stream",
     "text": [
      "The power of the test is  0.58"
     ]
    }
   ],
   "source": [
    "# number of simulations, in general more is better to decrease\n",
    "# the Monte Carlo error in your answer (i.e., error due to random seed used)\n",
    "n_sim <- 100\n",
    "\n",
    "# let's set a seed so the results are reproducible\n",
    "set.seed(1234)\n",
    "\n",
    "## get results using a for() loop\n",
    "# create empty vector of length nSim that results will go into\n",
    "results_vector <- rep(NA, n_sim)\n",
    "for(i in seq_len(n_sim)){\n",
    "    results_vector[i] <- run_one_sim(n = 100)\n",
    "}\n",
    "\n",
    "# check out first and last results\n",
    "head(results_vector) \n",
    "tail(results_vector)\n",
    "\n",
    "# power is the average number of times you reject the null\n",
    "cat(\"The power of the test is \" , mean(results_vector))"
   ]
  },
  {
   "cell_type": "markdown",
   "metadata": {},
   "source": [
    "Next we use `R`'s built in function `replicate`. This function repeatedly evaluates `expr` a total of `n` times and stores the output. It's exactly like a `for` loop, but with shorter syntax. "
   ]
  },
  {
   "cell_type": "code",
   "execution_count": 51,
   "metadata": {},
   "outputs": [
    {
     "name": "stdout",
     "output_type": "stream",
     "text": [
      "The power of the test is  0.58"
     ]
    }
   ],
   "source": [
    "# again set a seed so reproducible\n",
    "set.seed(1234)\n",
    "# replicate\n",
    "results_rep <- replicate(n = n_sim, expr = run_one_sim(n = 100))\n",
    "\n",
    "cat(\"The power of the test is \" , mean(results_rep))"
   ]
  }
 ],
 "metadata": {
  "kernelspec": {
   "display_name": "R",
   "language": "R",
   "name": "ir"
  },
  "language_info": {
   "codemirror_mode": "r",
   "file_extension": ".r",
   "mimetype": "text/x-r-source",
   "name": "R",
   "pygments_lexer": "r",
   "version": "3.4.3"
  }
 },
 "nbformat": 4,
 "nbformat_minor": 2
}
